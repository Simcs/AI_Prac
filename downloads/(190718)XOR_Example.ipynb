{
 "cells": [
  {
   "cell_type": "code",
   "execution_count": 1,
   "metadata": {},
   "outputs": [],
   "source": [
    "import numpy as np\n",
    "\n",
    "# sigmoid 함수\n",
    "def sigmoid(x):\n",
    "    return 1 / (1+np.exp(-x))\n",
    "\n",
    "# 수치미분 함수\n",
    "def numerical_derivative(f, x):\n",
    "    delta_x = 1e-4 # 0.0001\n",
    "    grad = np.zeros_like(x)\n",
    "    \n",
    "    it = np.nditer(x, flags=['multi_index'], op_flags=['readwrite'])\n",
    "    \n",
    "    while not it.finished:\n",
    "        idx = it.multi_index        \n",
    "        tmp_val = x[idx]\n",
    "        x[idx] = float(tmp_val) + delta_x\n",
    "        fx1 = f(x) # f(x+delta_x)\n",
    "        \n",
    "        x[idx] = tmp_val - delta_x \n",
    "        fx2 = f(x) # f(x-delta_x)\n",
    "        grad[idx] = (fx1 - fx2) / (2*delta_x)\n",
    "        \n",
    "        x[idx] = tmp_val \n",
    "        it.iternext()   \n",
    "        \n",
    "    return grad"
   ]
  },
  {
   "cell_type": "code",
   "execution_count": 2,
   "metadata": {},
   "outputs": [],
   "source": [
    "# LogicGate Class\n",
    "\n",
    "class LogicGate:\n",
    "    \n",
    "    def __init__(self, gate_name, xdata, tdata):  # xdata, tdata => numpy.array(...)\n",
    "        \n",
    "        self.name = gate_name\n",
    "        \n",
    "        # 입력 데이터, 정답 데이터 초기화 - 일반적인 방법으로 변경 필요\n",
    "        self.xdata = xdata.reshape(4, 2)\n",
    "        self.tdata = tdata.reshape(4, 1)\n",
    "        \n",
    "        # 가중치 W, 바이어스 b 초기화 - 일반적인 방법으로 변경 필요\n",
    "        self.W = np.random.rand(2,1)  # weight, 2 X 1 matrix\n",
    "        self.b = np.random.rand(1)\n",
    "                        \n",
    "        # 학습률 learning rate 초기화\n",
    "        self.learning_rate = 1e-2\n",
    "        \n",
    "    # 손실함수\n",
    "    def loss_func(self):\n",
    "        \n",
    "        delta = 1e-7    # log 무한대 발산 방지\n",
    "    \n",
    "        z = np.dot(self.xdata, self.W) + self.b\n",
    "        y = sigmoid(z)\n",
    "    \n",
    "        # cross-entropy \n",
    "        return  -np.sum( self.tdata*np.log(y + delta) + (1-self.tdata)*np.log((1 - y)+delta ) )      \n",
    "    \n",
    "    # 손실 값 계산\n",
    "    def error_val(self):\n",
    "        \n",
    "        delta = 1e-7    # log 무한대 발산 방지\n",
    "    \n",
    "        z = np.dot(self.xdata, self.W) + self.b\n",
    "        y = sigmoid(z)\n",
    "    \n",
    "        # cross-entropy \n",
    "        return  -np.sum( self.tdata*np.log(y + delta) + (1-self.tdata)*np.log((1 - y)+delta ) )\n",
    "\n",
    "    # 수치미분을 이용하여 손실함수가 최소가 될때 까지 학습하는 함수\n",
    "    def train(self):\n",
    "        \n",
    "        f = lambda x : self.loss_func()\n",
    "        \n",
    "        print(\"Initial error value = \", self.error_val())\n",
    "        \n",
    "        for step in  range(8001):\n",
    "            \n",
    "            self.W -= self.learning_rate * numerical_derivative(f, self.W)\n",
    "    \n",
    "            self.b -= self.learning_rate * numerical_derivative(f, self.b)\n",
    "    \n",
    "            if (step % 400 == 0):\n",
    "                print(\"step = \", step, \"error value = \", self.error_val())\n",
    "                \n",
    "                \n",
    "    # 미래 값 예측 함수\n",
    "    def predict(self, input_data):\n",
    "        \n",
    "        z = np.dot(input_data, self.W) + self.b\n",
    "        y = sigmoid(z)\n",
    "    \n",
    "        if y > 0.5:\n",
    "            result = 1  # True\n",
    "        else:\n",
    "            result = 0  # False\n",
    "    \n",
    "        return y, result\n",
    "    \n",
    "    # 정확도 예측 함수\n",
    "    def accuracy(self, test_xdata, test_tdata):\n",
    "        \n",
    "        matched_list = []\n",
    "        \n",
    "        for index in range(len(xdata)):\n",
    "            \n",
    "            (real_val, logical_val) = self.predict(test_xdata[index])\n",
    "            \n",
    "            if logical_val == test_tdata[index]:\n",
    "                matched_list.append(True)\n",
    "                \n",
    "        return ( len(matched_list) / len(test_xdata))"
   ]
  },
  {
   "cell_type": "code",
   "execution_count": 3,
   "metadata": {},
   "outputs": [
    {
     "name": "stdout",
     "output_type": "stream",
     "text": [
      "Initial error value =  4.865502226920377\n",
      "step =  0 error value =  4.804662107678614\n",
      "step =  400 error value =  1.589629991822017\n",
      "step =  800 error value =  1.1694261314810928\n",
      "step =  1200 error value =  0.9354003721703688\n",
      "step =  1600 error value =  0.7824789669605654\n",
      "step =  2000 error value =  0.673235431719047\n",
      "step =  2400 error value =  0.5907436776766891\n",
      "step =  2800 error value =  0.5260473581093529\n",
      "step =  3200 error value =  0.4738790049076415\n",
      "step =  3600 error value =  0.4309017471053011\n",
      "step =  4000 error value =  0.39488320541359423\n",
      "step =  4400 error value =  0.36426639514300746\n",
      "step =  4800 error value =  0.337929084066083\n",
      "step =  5200 error value =  0.3150405017635596\n",
      "step =  5600 error value =  0.29497183219423906\n",
      "step =  6000 error value =  0.2772380767128744\n",
      "step =  6400 error value =  0.261459048778231\n",
      "step =  6800 error value =  0.24733247835356498\n",
      "step =  7200 error value =  0.2346150263003849\n",
      "step =  7600 error value =  0.2231086068070069\n",
      "step =  8000 error value =  0.21265035614545777\n"
     ]
    }
   ],
   "source": [
    "xdata = np.array([ [0, 0], [0, 1], [1, 0], [1, 1] ])\n",
    "tdata = np.array([0, 0, 0, 1])\n",
    "\n",
    "AND_obj = LogicGate(\"AND_GATE\", xdata, tdata)\n",
    "\n",
    "AND_obj.train()"
   ]
  },
  {
   "cell_type": "code",
   "execution_count": 4,
   "metadata": {},
   "outputs": [
    {
     "name": "stdout",
     "output_type": "stream",
     "text": [
      "AND_GATE \n",
      "\n",
      "Accuracy =>  1.0\n"
     ]
    }
   ],
   "source": [
    "# AND Gate prediction\n",
    "print(AND_obj.name, \"\\n\")\n",
    "\n",
    "test_xdata = np.array([ [0, 0], [0, 1], [1, 0], [1, 1] ])\n",
    "test_tdata = np.array([ 0, 0, 0, 1])\n",
    "\n",
    "accuracy_ret = AND_obj.accuracy(test_xdata, test_tdata)\n",
    "\n",
    "print(\"Accuracy => \", accuracy_ret)"
   ]
  },
  {
   "cell_type": "code",
   "execution_count": 5,
   "metadata": {},
   "outputs": [
    {
     "name": "stdout",
     "output_type": "stream",
     "text": [
      "Initial error value =  1.8648940747912888\n",
      "step =  0 error value =  1.8602715128292173\n",
      "step =  400 error value =  1.1293937634199631\n",
      "step =  800 error value =  0.8138768614982312\n",
      "step =  1200 error value =  0.6302806235421715\n",
      "step =  1600 error value =  0.5112701850919729\n",
      "step =  2000 error value =  0.428349134358473\n",
      "step =  2400 error value =  0.3675419156101357\n",
      "step =  2800 error value =  0.32120852212084505\n",
      "step =  3200 error value =  0.284830865233434\n",
      "step =  3600 error value =  0.25557359882144454\n",
      "step =  4000 error value =  0.23157226683496787\n",
      "step =  4400 error value =  0.21155343729315465\n",
      "step =  4800 error value =  0.19461948417745675\n",
      "step =  5200 error value =  0.18012056801763965\n",
      "step =  5600 error value =  0.16757533219051382\n",
      "step =  6000 error value =  0.15662005486350455\n",
      "step =  6400 error value =  0.14697506330911417\n",
      "step =  6800 error value =  0.13842196780709196\n",
      "step =  7200 error value =  0.1307878731523117\n",
      "step =  7600 error value =  0.12393420473627127\n",
      "step =  8000 error value =  0.1177486555544329\n"
     ]
    }
   ],
   "source": [
    "xdata = np.array([ [0, 0], [0, 1], [1, 0], [1, 1] ])\n",
    "tdata = np.array([0, 1, 1, 1])\n",
    "\n",
    "OR_obj = LogicGate(\"OR_GATE\", xdata, tdata)\n",
    "\n",
    "OR_obj.train() "
   ]
  },
  {
   "cell_type": "code",
   "execution_count": 6,
   "metadata": {},
   "outputs": [
    {
     "name": "stdout",
     "output_type": "stream",
     "text": [
      "OR_GATE \n",
      "\n",
      "Accuracy =>  1.0\n"
     ]
    }
   ],
   "source": [
    "# OR Gate prediction\n",
    "print(OR_obj.name, \"\\n\")\n",
    "\n",
    "test_xdata = np.array([ [0, 0], [0, 1], [1, 0], [1, 1] ])\n",
    "test_tdata = np.array([ 0, 1, 1, 1])\n",
    "\n",
    "accuracy_ret = OR_obj.accuracy(test_xdata, test_tdata)\n",
    "\n",
    "print(\"Accuracy => \", accuracy_ret)"
   ]
  },
  {
   "cell_type": "code",
   "execution_count": 7,
   "metadata": {},
   "outputs": [
    {
     "name": "stdout",
     "output_type": "stream",
     "text": [
      "Initial error value =  2.859445033187958\n",
      "step =  0 error value =  2.8542347273585067\n",
      "step =  400 error value =  1.671134828189783\n",
      "step =  800 error value =  1.2082397559407336\n",
      "step =  1200 error value =  0.9588125809236816\n",
      "step =  1600 error value =  0.7984832909020128\n",
      "step =  2000 error value =  0.6849939963482133\n",
      "step =  2400 error value =  0.599793321402162\n",
      "step =  2800 error value =  0.5332433100616344\n",
      "step =  3200 error value =  0.47974285363467617\n",
      "step =  3600 error value =  0.4357729449951794\n",
      "step =  4000 error value =  0.398993581079795\n",
      "step =  4400 error value =  0.36778028513069094\n",
      "step =  4800 error value =  0.34096650077517054\n",
      "step =  5200 error value =  0.31769125564482315\n",
      "step =  5600 error value =  0.29730452400271845\n",
      "step =  6000 error value =  0.27930603187046354\n",
      "step =  6400 error value =  0.2633043525798664\n",
      "step =  6800 error value =  0.24898879040168181\n",
      "step =  7200 error value =  0.2361095869479039\n",
      "step =  7600 error value =  0.22446369517176623\n",
      "step =  8000 error value =  0.21388436760974322\n"
     ]
    }
   ],
   "source": [
    "xdata = np.array([ [0, 0], [0, 1], [1, 0], [1, 1] ])\n",
    "tdata = np.array([1, 1, 1, 0])\n",
    "\n",
    "NAND_obj = LogicGate(\"NAND_GATE\", xdata, tdata)\n",
    "\n",
    "NAND_obj.train()"
   ]
  },
  {
   "cell_type": "code",
   "execution_count": 8,
   "metadata": {},
   "outputs": [
    {
     "name": "stdout",
     "output_type": "stream",
     "text": [
      "NAND_GATE \n",
      "\n",
      "Accuracy =>  1.0\n"
     ]
    }
   ],
   "source": [
    "# NAND Gate prediction\n",
    "print(NAND_obj.name, \"\\n\")\n",
    "\n",
    "test_xdata = np.array([ [0, 0], [0, 1], [1, 0], [1, 1] ])\n",
    "test_tdata = np.array([ 1, 1, 1, 0])\n",
    "\n",
    "accuracy_ret = NAND_obj.accuracy(test_xdata, test_tdata)\n",
    "\n",
    "print(\"Accuracy => \", accuracy_ret)"
   ]
  },
  {
   "cell_type": "code",
   "execution_count": 9,
   "metadata": {},
   "outputs": [
    {
     "name": "stdout",
     "output_type": "stream",
     "text": [
      "[0 0]  =  0\n",
      "\n",
      "[0 1]  =  1\n",
      "\n",
      "[1 0]  =  1\n",
      "\n",
      "[1 1]  =  0\n",
      "\n"
     ]
    }
   ],
   "source": [
    "# XOR 을 NAND + OR => AND 조합으로 계산함\n",
    "input_data = np.array([ [0, 0], [0, 1], [1, 0], [1, 1] ])\n",
    "\n",
    "s1 = []    # NAND 출력\n",
    "s2 = []    # OR 출력\n",
    "\n",
    "new_input_data = []  # AND 입력\n",
    "final_output = []    # AND 출력\n",
    "\n",
    "for index in range(len(input_data)):\n",
    "    \n",
    "    s1 = NAND_obj.predict(input_data[index])  # NAND 출력\n",
    "    s2 = OR_obj.predict(input_data[index])    # OR 출력\n",
    "    \n",
    "    new_input_data.append(s1[-1])    # AND 입력\n",
    "    new_input_data.append(s2[-1])    # AND 입력\n",
    "    \n",
    "    (sigmoid_val, logical_val) = AND_obj.predict(np.array(new_input_data))\n",
    "    \n",
    "    final_output.append(logical_val)    # AND 출력, 즉 XOR 출력    \n",
    "    new_input_data = []    # AND 입력 초기화\n",
    "\n",
    "\n",
    "for index in range(len(input_data)):    \n",
    "    print(input_data[index], \" = \", final_output[index], end='')\n",
    "    print(\"\\n\")"
   ]
  },
  {
   "cell_type": "code",
   "execution_count": null,
   "metadata": {
    "collapsed": true
   },
   "outputs": [],
   "source": []
  }
 ],
 "metadata": {
  "anaconda-cloud": {},
  "kernelspec": {
   "display_name": "Python 3",
   "language": "python",
   "name": "python3"
  },
  "language_info": {
   "codemirror_mode": {
    "name": "ipython",
    "version": 3
   },
   "file_extension": ".py",
   "mimetype": "text/x-python",
   "name": "python",
   "nbconvert_exporter": "python",
   "pygments_lexer": "ipython3",
   "version": "3.6.5"
  }
 },
 "nbformat": 4,
 "nbformat_minor": 1
}
