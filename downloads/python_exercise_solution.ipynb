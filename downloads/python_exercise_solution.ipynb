{
 "cells": [
  {
   "cell_type": "markdown",
   "metadata": {},
   "source": [
    "## 변수 A에 'Hello World'라는 문자열이 저장되어 있을 때, 슬라이싱 기능과 문자열 + 연산자만을 이용해 A의 값을 'World Hello'으로 변경하기"
   ]
  },
  {
   "cell_type": "code",
   "execution_count": 1,
   "metadata": {
    "collapsed": true
   },
   "outputs": [],
   "source": [
    "A = 'Hello World'"
   ]
  },
  {
   "cell_type": "code",
   "execution_count": 2,
   "metadata": {
    "collapsed": false
   },
   "outputs": [
    {
     "name": "stdout",
     "output_type": "stream",
     "text": [
      "World Hello\n"
     ]
    }
   ],
   "source": [
    "A = A[6:] + ' ' + A[0:5]\n",
    "\n",
    "print(A)"
   ]
  },
  {
   "cell_type": "markdown",
   "metadata": {},
   "source": [
    "## 변수 A에 'hello world'라는 문자열이 저장되어 있을때 슬라이싱 기능과 문자열 + 연산자만을 이용하여 A 값을 'hi world'로 변경하기"
   ]
  },
  {
   "cell_type": "code",
   "execution_count": 3,
   "metadata": {
    "collapsed": true
   },
   "outputs": [],
   "source": [
    "A = 'Hello World'"
   ]
  },
  {
   "cell_type": "code",
   "execution_count": 4,
   "metadata": {
    "collapsed": false
   },
   "outputs": [
    {
     "name": "stdout",
     "output_type": "stream",
     "text": [
      "hi World\n"
     ]
    }
   ],
   "source": [
    "A = 'hi' + A[5:]\n",
    "\n",
    "print(A)"
   ]
  },
  {
   "cell_type": "markdown",
   "metadata": {},
   "source": [
    "## 아래와 같은 패턴의 별(*)을 출력하는 프로그램을 작성하시오 "
   ]
  },
  {
   "cell_type": "markdown",
   "metadata": {},
   "source": [
    "for i in range(5):\n",
    "    print('*', end='')"
   ]
  },
  {
   "cell_type": "markdown",
   "metadata": {},
   "source": [
    "## 아래와 같은 패턴의 별(*)을 출력하는 프로그램을 작성하시오"
   ]
  },
  {
   "cell_type": "code",
   "execution_count": 6,
   "metadata": {
    "collapsed": false
   },
   "outputs": [
    {
     "name": "stdout",
     "output_type": "stream",
     "text": [
      "*****\n",
      "****\n",
      "***\n",
      "**\n",
      "*\n"
     ]
    }
   ],
   "source": [
    "for i in range(5):\n",
    "    for k in range(5-i):\n",
    "        print('*', end='')\n",
    "    print(\"\")"
   ]
  },
  {
   "cell_type": "markdown",
   "metadata": {},
   "source": [
    "## 중첩 루프를 이용해 신문 배달을 하는 프로그램을 작성하시오. 단, 아래에서 arrears 리스트는 신문 구독료가 미납된 세대에 대한 정보를 포함하고 있는데, 해당 세대에는 신문을 배달하지 않아야 함"
   ]
  },
  {
   "cell_type": "code",
   "execution_count": 8,
   "metadata": {
    "collapsed": false
   },
   "outputs": [
    {
     "name": "stdout",
     "output_type": "stream",
     "text": [
      "Newspaper delivery:  102\n",
      "Newspaper delivery:  103\n",
      "Newspaper delivery:  104\n",
      "Newspaper delivery:  201\n",
      "Newspaper delivery:  202\n",
      "Newspaper delivery:  204\n",
      "Newspaper delivery:  302\n",
      "Newspaper delivery:  303\n",
      "Newspaper delivery:  304\n",
      "Newspaper delivery:  401\n",
      "Newspaper delivery:  402\n",
      "Newspaper delivery:  403\n"
     ]
    }
   ],
   "source": [
    "apart = [[101, 102, 103, 104],[201, 202, 203, 204],[301, 302, 303, 304], [401, 402, 403, 404]]\n",
    "arrears = [101, 203, 301, 404] \n",
    "\n",
    "for floor in apart:\n",
    "    for house in floor:\n",
    "        if house in arrears:\n",
    "            continue\n",
    "        else:\n",
    "            print(\"Newspaper delivery: \", house)"
   ]
  },
  {
   "cell_type": "markdown",
   "metadata": {},
   "source": [
    "## 함수의 인자로 시작과 끝을 나타내는 숫자를 받아 시작부터 끝까지의 모든 정수값의 합을 반환하는 함수 add_start_to_end 를 작성하시오(시작값과 끝값을 포함)"
   ]
  },
  {
   "cell_type": "code",
   "execution_count": 9,
   "metadata": {
    "collapsed": false
   },
   "outputs": [
    {
     "name": "stdout",
     "output_type": "stream",
     "text": [
      "55\n"
     ]
    }
   ],
   "source": [
    "def add_start_to_end(a,b):\n",
    "    sum = 0\n",
    "    for i in range(a,b+1):\n",
    "        sum = sum + i\n",
    "        \n",
    "    return sum\n",
    "\n",
    "ret = add_start_to_end(1,10)\n",
    "\n",
    "print(ret)"
   ]
  },
  {
   "cell_type": "markdown",
   "metadata": {},
   "source": [
    "## 함수의 인자로 문자열을 포함하는 리스트가 입력될 때 각 문자열의 첫 세 글자로만 구성된 리스트를 반환하는 함수 get_abbr 를 슬라이싱 기능을 이용하여 구현하시오"
   ]
  },
  {
   "cell_type": "code",
   "execution_count": 11,
   "metadata": {
    "collapsed": false
   },
   "outputs": [
    {
     "data": {
      "text/plain": [
       "['Seo', 'Dae', 'Kwa', 'Jej']"
      ]
     },
     "execution_count": 11,
     "metadata": {},
     "output_type": "execute_result"
    }
   ],
   "source": [
    "def get_abbr(data_list):\n",
    "    result = []\n",
    "    for x in data_list:\n",
    "        result.append(x[:3])\n",
    "    return result\n",
    "\n",
    "get_abbr(['Seoul', 'Daegu', 'Kwangju', 'Jeju']) "
   ]
  },
  {
   "cell_type": "markdown",
   "metadata": {},
   "source": [
    "## 입력값의 제곱을 리턴하는 함수를 일반적인 python 함수인 square 와 lambda 함수 f 로 구현하고, square(2) = 4 와 f(2) = 4 로 검증하시오"
   ]
  },
  {
   "cell_type": "code",
   "execution_count": 12,
   "metadata": {
    "collapsed": false
   },
   "outputs": [
    {
     "name": "stdout",
     "output_type": "stream",
     "text": [
      "4\n",
      "4\n"
     ]
    }
   ],
   "source": [
    "def square(x):\n",
    "    return x * x\n",
    "\n",
    "f = lambda x : x*x\n",
    "\n",
    "ret1 = square(2)\n",
    "\n",
    "print(ret1)\n",
    "\n",
    "ret2 = f(2)\n",
    "\n",
    "print(ret2) "
   ]
  },
  {
   "cell_type": "markdown",
   "metadata": {},
   "source": [
    "## 다음의 조건을 만족하는 Point라는 클래스를 작성하세요.\n",
    "\n",
    "## Point 클래스는 생성자를 통해 (x, y) 좌표를 입력받는다.\n",
    "## setx(x), sety(y) 메서드를 통해 x 좌표와 y 좌표를 따로 입력받을 수도 있다.\n",
    "## get() 메서드를 호출하면 튜플로 구성된 (x, y) 좌표를 반환한다.\n",
    "## move(dx, dy) 메서드는 현재 좌표를 dx, dy만큼 이동시킨다"
   ]
  },
  {
   "cell_type": "code",
   "execution_count": 13,
   "metadata": {
    "collapsed": true
   },
   "outputs": [],
   "source": [
    "class Point:\n",
    "    \n",
    "    def __init__(self, x, y):\n",
    "        self.x = x\n",
    "        self.y = y\n",
    "        \n",
    "    def setx(self, x):\n",
    "        self.x = x\n",
    "        \n",
    "    def sety(self, y):\n",
    "        self.y = y\n",
    "        \n",
    "    def get(self):\n",
    "        return self.x, self.y\n",
    "    \n",
    "    def move(self, dx, dy):\n",
    "        self.x = self.x + dx\n",
    "        self.y = self.y + dy"
   ]
  },
  {
   "cell_type": "code",
   "execution_count": null,
   "metadata": {
    "collapsed": true
   },
   "outputs": [],
   "source": []
  }
 ],
 "metadata": {
  "anaconda-cloud": {},
  "kernelspec": {
   "display_name": "Python [default]",
   "language": "python",
   "name": "python3"
  },
  "language_info": {
   "codemirror_mode": {
    "name": "ipython",
    "version": 3
   },
   "file_extension": ".py",
   "mimetype": "text/x-python",
   "name": "python",
   "nbconvert_exporter": "python",
   "pygments_lexer": "ipython3",
   "version": "3.5.2"
  }
 },
 "nbformat": 4,
 "nbformat_minor": 1
}
