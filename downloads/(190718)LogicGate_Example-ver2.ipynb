{
 "cells": [
  {
   "cell_type": "code",
   "execution_count": 1,
   "metadata": {},
   "outputs": [],
   "source": [
    "import numpy as np\n",
    "\n",
    "# sigmoid 함수\n",
    "def sigmoid(x):\n",
    "    return 1 / (1+np.exp(-x))\n",
    "\n",
    "# 수치미분 함수\n",
    "def numerical_derivative(f, x):\n",
    "    delta_x = 1e-4 # 0.0001\n",
    "    grad = np.zeros_like(x)\n",
    "    \n",
    "    it = np.nditer(x, flags=['multi_index'], op_flags=['readwrite'])\n",
    "    \n",
    "    while not it.finished:\n",
    "        idx = it.multi_index        \n",
    "        tmp_val = x[idx]\n",
    "        x[idx] = float(tmp_val) + delta_x\n",
    "        fx1 = f(x) # f(x+delta_x)\n",
    "        \n",
    "        x[idx] = tmp_val - delta_x \n",
    "        fx2 = f(x) # f(x-delta_x)\n",
    "        grad[idx] = (fx1 - fx2) / (2*delta_x)\n",
    "        \n",
    "        x[idx] = tmp_val \n",
    "        it.iternext()   \n",
    "        \n",
    "    return grad"
   ]
  },
  {
   "cell_type": "code",
   "execution_count": 2,
   "metadata": {},
   "outputs": [],
   "source": [
    "# LogicGate Class\n",
    "\n",
    "class LogicGate:\n",
    "    \n",
    "    def __init__(self, gate_name, xdata, tdata):  # xdata, tdata => numpy.array(...)\n",
    "        \n",
    "        self.name = gate_name\n",
    "        \n",
    "        # 입력 데이터, 정답 데이터 초기화 - 일반적인 방법으로 변경 필요\n",
    "        self.xdata = xdata.reshape(4, 2)\n",
    "        self.tdata = tdata.reshape(4, 1)\n",
    "        \n",
    "        # 가중치 W, 바이어스 b 초기화 - 일반적인 방법으로 변경 필요\n",
    "        self.W = np.random.rand(2,1)  # weight, 2 X 1 matrix\n",
    "        self.b = np.random.rand(1)\n",
    "                        \n",
    "        # 학습률 learning rate 초기화\n",
    "        self.learning_rate = 1e-2\n",
    "        \n",
    "    # 손실함수\n",
    "    def loss_func(self):\n",
    "        \n",
    "        delta = 1e-7    # log 무한대 발산 방지\n",
    "    \n",
    "        z = np.dot(self.xdata, self.W) + self.b\n",
    "        y = sigmoid(z)\n",
    "    \n",
    "        # cross-entropy \n",
    "        return  -np.sum( self.tdata*np.log(y + delta) + (1-self.tdata)*np.log((1 - y)+delta ) )      \n",
    "    \n",
    "    # 손실 값 계산\n",
    "    def error_val(self):\n",
    "        \n",
    "        delta = 1e-7    # log 무한대 발산 방지\n",
    "    \n",
    "        z = np.dot(self.xdata, self.W) + self.b\n",
    "        y = sigmoid(z)\n",
    "    \n",
    "        # cross-entropy \n",
    "        return  -np.sum( self.tdata*np.log(y + delta) + (1-self.tdata)*np.log((1 - y)+delta ) )\n",
    "\n",
    "    # 수치미분을 이용하여 손실함수가 최소가 될때 까지 학습하는 함수\n",
    "    def train(self):\n",
    "        \n",
    "        f = lambda x : self.loss_func()\n",
    "        \n",
    "        print(\"Initial error value = \", self.error_val())\n",
    "        \n",
    "        for step in  range(8001):\n",
    "            \n",
    "            self.W -= self.learning_rate * numerical_derivative(f, self.W)\n",
    "    \n",
    "            self.b -= self.learning_rate * numerical_derivative(f, self.b)\n",
    "    \n",
    "            if (step % 400 == 0):\n",
    "                print(\"step = \", step, \"error value = \", self.error_val())\n",
    "                \n",
    "                \n",
    "    # 미래 값 예측 함수\n",
    "    def predict(self, input_data):\n",
    "        \n",
    "        z = np.dot(input_data, self.W) + self.b\n",
    "        y = sigmoid(z)\n",
    "    \n",
    "        if y > 0.5:\n",
    "            result = 1  # True\n",
    "        else:\n",
    "            result = 0  # False\n",
    "    \n",
    "        return y, result\n",
    "    \n",
    "    # 정확도 예측 함수\n",
    "    def accuracy(self, test_xdata, test_tdata):\n",
    "        \n",
    "        matched_list = []\n",
    "        not_matched_list = []\n",
    "        \n",
    "        for index in range(len(xdata)):\n",
    "            \n",
    "            (real_val, logical_val) = self.predict(test_xdata[index])\n",
    "            \n",
    "            if logical_val == test_tdata[index]:\n",
    "                matched_list.append(index)\n",
    "            else:\n",
    "                not_matched_list.append(index)\n",
    "                \n",
    "        print(\"Accuracy => \", len(matched_list) / len(test_xdata) )\n",
    "        \n",
    "        return matched_list, not_matched_list"
   ]
  },
  {
   "cell_type": "code",
   "execution_count": 3,
   "metadata": {},
   "outputs": [
    {
     "name": "stdout",
     "output_type": "stream",
     "text": [
      "Initial error value =  4.0910546359491695\n",
      "step =  0 error value =  4.0444470902117855\n",
      "step =  400 error value =  1.572246214694741\n",
      "step =  800 error value =  1.16067651024883\n",
      "step =  1200 error value =  0.9299933360897985\n",
      "step =  1600 error value =  0.7787425538984659\n",
      "step =  2000 error value =  0.6704748684777403\n",
      "step =  2400 error value =  0.5886119194399528\n",
      "step =  2800 error value =  0.524348360665946\n",
      "step =  3200 error value =  0.4724921585581473\n",
      "step =  3600 error value =  0.4297481248666669\n",
      "step =  4000 error value =  0.39390869948640894\n",
      "step =  4400 error value =  0.3634325426184374\n",
      "step =  4800 error value =  0.3372077348002669\n",
      "step =  5200 error value =  0.3144105525423549\n",
      "step =  5600 error value =  0.29441713976510403\n",
      "step =  6000 error value =  0.27674607664386996\n",
      "step =  6400 error value =  0.2610198141834758\n",
      "step =  6800 error value =  0.2469380621377646\n",
      "step =  7200 error value =  0.2342589914791262\n",
      "step =  7600 error value =  0.22278568472768107\n",
      "step =  8000 error value =  0.21235619359485716\n"
     ]
    }
   ],
   "source": [
    "xdata = np.array([ [0, 0], [0, 1], [1, 0], [1, 1] ])\n",
    "tdata = np.array([0, 0, 0, 1])\n",
    "\n",
    "AND_obj = LogicGate(\"AND_GATE\", xdata, tdata)\n",
    "\n",
    "AND_obj.train()"
   ]
  },
  {
   "cell_type": "code",
   "execution_count": 4,
   "metadata": {},
   "outputs": [
    {
     "name": "stdout",
     "output_type": "stream",
     "text": [
      "AND_GATE \n",
      "\n",
      "Accuracy =>  1.0\n",
      "True List =>  [0, 1, 2, 3] , Not True List =>  []\n"
     ]
    }
   ],
   "source": [
    "# AND Gate prediction\n",
    "print(AND_obj.name, \"\\n\")\n",
    "\n",
    "test_xdata = np.array([ [0, 0], [0, 1], [1, 0], [1, 1] ])\n",
    "test_tdata = np.array([ 0, 0, 0, 1])\n",
    "\n",
    "(true_list, not_true_list) = AND_obj.accuracy(test_xdata, test_tdata)\n",
    "\n",
    "print(\"True List => \", true_list, \", Not True List => \", not_true_list)"
   ]
  },
  {
   "cell_type": "code",
   "execution_count": 5,
   "metadata": {},
   "outputs": [
    {
     "name": "stdout",
     "output_type": "stream",
     "text": [
      "Initial error value =  2.9720000751189386\n",
      "step =  0 error value =  2.966597923583717\n",
      "step =  400 error value =  2.7770756151380205\n",
      "step =  800 error value =  2.773856985989862\n",
      "step =  1200 error value =  2.772947132393907\n",
      "step =  1600 error value =  2.7726896573970627\n",
      "step =  2000 error value =  2.7726167456306183\n",
      "step =  2400 error value =  2.77259608993493\n",
      "step =  2800 error value =  2.7725902369393354\n",
      "step =  3200 error value =  2.7725885782487674\n",
      "step =  3600 error value =  2.7725881081634887\n",
      "step =  4000 error value =  2.7725879749342193\n",
      "step =  4400 error value =  2.7725879371745403\n",
      "step =  4800 error value =  2.7725879264726707\n",
      "step =  5200 error value =  2.7725879234395325\n",
      "step =  5600 error value =  2.7725879225798744\n",
      "step =  6000 error value =  2.772587922336229\n",
      "step =  6400 error value =  2.772587922267174\n",
      "step =  6800 error value =  2.7725879222476024\n",
      "step =  7200 error value =  2.7725879222420553\n",
      "step =  7600 error value =  2.7725879222404837\n",
      "step =  8000 error value =  2.772587922240037\n"
     ]
    }
   ],
   "source": [
    "xdata = np.array([ [0, 0], [0, 1], [1, 0], [1, 1] ])\n",
    "tdata = np.array([0, 1, 1, 0])\n",
    "\n",
    "XOR_obj = LogicGate(\"XOR_GATE\", xdata, tdata)\n",
    "\n",
    "XOR_obj.train()"
   ]
  },
  {
   "cell_type": "code",
   "execution_count": 6,
   "metadata": {},
   "outputs": [
    {
     "name": "stdout",
     "output_type": "stream",
     "text": [
      "XOR_GATE \n",
      "\n",
      "Accuracy =>  0.25\n",
      "True List =>  [0] , Not True List =>  [1, 2, 3]\n"
     ]
    }
   ],
   "source": [
    "# XOR Gate prediction\n",
    "print(XOR_obj.name, \"\\n\")\n",
    "\n",
    "test_xdata = np.array([ [0, 0], [0, 1], [1, 0], [1, 1] ])\n",
    "test_tdata = np.array([ 0, 1, 1, 0])\n",
    "\n",
    "(true_list, not_true_list) = XOR_obj.accuracy(test_xdata, test_tdata)\n",
    "\n",
    "print(\"True List => \", true_list, \", Not True List => \", not_true_list)"
   ]
  },
  {
   "cell_type": "code",
   "execution_count": null,
   "metadata": {
    "collapsed": true
   },
   "outputs": [],
   "source": []
  }
 ],
 "metadata": {
  "anaconda-cloud": {},
  "kernelspec": {
   "display_name": "Python 3",
   "language": "python",
   "name": "python3"
  },
  "language_info": {
   "codemirror_mode": {
    "name": "ipython",
    "version": 3
   },
   "file_extension": ".py",
   "mimetype": "text/x-python",
   "name": "python",
   "nbconvert_exporter": "python",
   "pygments_lexer": "ipython3",
   "version": "3.6.5"
  }
 },
 "nbformat": 4,
 "nbformat_minor": 1
}
